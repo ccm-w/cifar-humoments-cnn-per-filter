{
  "nbformat": 4,
  "nbformat_minor": 0,
  "metadata": {
    "colab": {
      "name": "CIFAR10_Humoment_cnn_individual_filter(32,48).ipynb",
      "provenance": [],
      "collapsed_sections": []
    },
    "interpreter": {
      "hash": "c39cd8ea39ab60ca70f2ab7436065776338d172838e3a8bfe8ee37f95ef1aa3d"
    },
    "kernelspec": {
      "display_name": "Python 3.8.12 64-bit ('research': conda)",
      "name": "python3"
    },
    "language_info": {
      "codemirror_mode": {
        "name": "ipython",
        "version": 3
      },
      "file_extension": ".py",
      "mimetype": "text/x-python",
      "name": "python",
      "nbconvert_exporter": "python",
      "pygments_lexer": "ipython3",
      "version": "3.8.12"
    },
    "accelerator": "GPU"
  },
  "cells": [
    {
      "cell_type": "markdown",
      "metadata": {
        "id": "mhMMdaJ097Nm"
      },
      "source": [
        "# Loading Data"
      ]
    },
    {
      "cell_type": "code",
      "metadata": {
        "id": "GGBdcWBjN8sP"
      },
      "source": [
        "import os\n",
        "import numpy as np\n",
        "import matplotlib.pyplot as plt\n",
        "import cv2\n",
        "import time\n",
        "\n",
        "from sklearn import svm\n",
        "from sklearn.metrics import accuracy_score, classification_report\n",
        "from torchvision.datasets import CIFAR10"
      ],
      "execution_count": 1,
      "outputs": []
    },
    {
      "cell_type": "code",
      "metadata": {
        "id": "cK0s9w10pcE2"
      },
      "source": [
        "def get_dataset(train):\n",
        "    data = CIFAR10('.', train=train, download=True)\n",
        "    return data.data, data.targets"
      ],
      "execution_count": 2,
      "outputs": []
    },
    {
      "cell_type": "code",
      "metadata": {
        "colab": {
          "base_uri": "https://localhost:8080/"
        },
        "id": "Wv8pkIJlpevU",
        "outputId": "cc5a8043-8f61-472c-a865-56a94122b648"
      },
      "source": [
        "(x, y), (test_X, test_y) = get_dataset(True), get_dataset(False)"
      ],
      "execution_count": 3,
      "outputs": [
        {
          "output_type": "stream",
          "name": "stdout",
          "text": [
            "Files already downloaded and verified\n",
            "Files already downloaded and verified\n"
          ]
        }
      ]
    },
    {
      "cell_type": "code",
      "metadata": {
        "id": "WH3DehTCph0V"
      },
      "source": [
        "train_size = 40000"
      ],
      "execution_count": 4,
      "outputs": []
    },
    {
      "cell_type": "code",
      "metadata": {
        "id": "OLcUvjJPpju8"
      },
      "source": [
        "# get training and testing dataset\n",
        "features, labels = x[:train_size], y[:train_size]\n",
        "features_test, labels_test = x[train_size:], y[train_size:]"
      ],
      "execution_count": 5,
      "outputs": []
    },
    {
      "cell_type": "code",
      "metadata": {
        "colab": {
          "base_uri": "https://localhost:8080/"
        },
        "id": "NM9HU666pkub",
        "outputId": "49d47695-f5c9-4780-dac1-0f9519e08f18"
      },
      "source": [
        "features = np.array(features)\n",
        "number_of_training_data = len(features)\n",
        "features_test = np.array(features_test)\n",
        "number_of_testing_data = len(features_test)\n",
        "\n",
        "print(\"Number of training data:\", number_of_training_data)\n",
        "print(\"Training data shape:\", features.shape)\n",
        "print(\"Number of testing data:\", number_of_testing_data)\n",
        "print(\"Testing data shape:\", features_test.shape)"
      ],
      "execution_count": 6,
      "outputs": [
        {
          "output_type": "stream",
          "name": "stdout",
          "text": [
            "Number of training data: 40000\n",
            "Training data shape: (40000, 32, 32, 3)\n",
            "Number of testing data: 10000\n",
            "Testing data shape: (10000, 32, 32, 3)\n"
          ]
        }
      ]
    },
    {
      "cell_type": "markdown",
      "metadata": {
        "id": "ytGvyTn19_Al"
      },
      "source": [
        "# Data preprocessing"
      ]
    },
    {
      "cell_type": "code",
      "metadata": {
        "id": "9n_Z0hki86VT"
      },
      "source": [
        "import torch\n",
        "from torchvision import datasets, transforms, models\n",
        "from torch.utils.data import DataLoader"
      ],
      "execution_count": 7,
      "outputs": []
    },
    {
      "cell_type": "code",
      "metadata": {
        "colab": {
          "base_uri": "https://localhost:8080/"
        },
        "id": "7l9AcmjdjAUt",
        "outputId": "a5462032-7c63-4c8c-8eeb-e495eb1a6246"
      },
      "source": [
        "device = 'cuda' if torch.cuda.is_available() else 'cpu'\n",
        "print('Using {} device'.format(device))"
      ],
      "execution_count": 8,
      "outputs": [
        {
          "output_type": "stream",
          "name": "stdout",
          "text": [
            "Using cuda device\n"
          ]
        }
      ]
    },
    {
      "cell_type": "code",
      "metadata": {
        "id": "xxQB0mI6jAUs"
      },
      "source": [
        "resnet = models.resnet50(pretrained=True).to(device)"
      ],
      "execution_count": 9,
      "outputs": []
    },
    {
      "cell_type": "code",
      "metadata": {
        "id": "hjQdIyCSrEhh"
      },
      "source": [
        "step = 7"
      ],
      "execution_count": 10,
      "outputs": []
    },
    {
      "cell_type": "code",
      "metadata": {
        "id": "sif5fxBjrZkc"
      },
      "source": [
        "norm_transform = transforms.Compose([\n",
        "        transforms.ToTensor(),\n",
        "        transforms.Normalize([0.485, 0.456, 0.406], [0.229, 0.224, 0.225])\n",
        "    ])"
      ],
      "execution_count": 11,
      "outputs": []
    },
    {
      "cell_type": "markdown",
      "metadata": {
        "id": "-4dRE_N_-D7Q"
      },
      "source": [
        "# Feature Extraction"
      ]
    },
    {
      "cell_type": "code",
      "metadata": {
        "id": "Hz-t-O5D-z8t"
      },
      "source": [
        "from math import copysign, log10, log1p"
      ],
      "execution_count": 12,
      "outputs": []
    },
    {
      "cell_type": "code",
      "metadata": {
        "id": "YfkARk_N94-l"
      },
      "source": [
        "# feature-descriptor-1: Hu Moments\n",
        "def fd_hu_moments(image):\n",
        "  huMoments = cv2.HuMoments(cv2.moments(image)).flatten()\n",
        "  for i in range(0,7):\n",
        "    huMoments[i] = -1* copysign(1.0, huMoments[i]) * log10(abs(huMoments[i]))\n",
        "  return huMoments"
      ],
      "execution_count": 13,
      "outputs": []
    },
    {
      "cell_type": "code",
      "metadata": {
        "id": "JnW0d1LR9E7M"
      },
      "source": [
        "def feature_extraction(features):\n",
        "  data = []\n",
        "\n",
        "  for index, feature in enumerate(features):\n",
        "    fv_hu_moments = fd_hu_moments(feature)\n",
        "    data.append(fv_hu_moments)\n",
        "  return data"
      ],
      "execution_count": 14,
      "outputs": []
    },
    {
      "cell_type": "markdown",
      "metadata": {
        "id": "0M6_ztHk-Jhg"
      },
      "source": [
        "# Classification"
      ]
    },
    {
      "cell_type": "code",
      "metadata": {
        "id": "N9up0FJhai9E"
      },
      "source": [
        "from sklearn import svm\n",
        "from sklearn.metrics import accuracy_score, classification_report"
      ],
      "execution_count": 15,
      "outputs": []
    },
    {
      "cell_type": "code",
      "metadata": {
        "id": "EPCVfoNUW4WS"
      },
      "source": [
        "def image_processing(features, number_of_data, weight_index):\n",
        "    features_normalized, features_processed = [], []\n",
        "    t0 = time.time()\n",
        "\n",
        "    # apply z score normalization\n",
        "    for image in features:\n",
        "        image_norm = norm_transform(image)\n",
        "        features_normalized.append(image_norm)\n",
        "    \n",
        "    # apply cnn\n",
        "    loader = DataLoader(features_normalized, batch_size=number_of_data // step, shuffle=False)\n",
        "    for images in loader:\n",
        "        images = images.to(device)\n",
        "        images_conv = resnet.conv1(images) # (batch_size, 64, 128, 128)\n",
        "        images_conv = np.array([conv[weight_index].cpu().detach().numpy() for conv in images_conv])\n",
        "        # images_conv = images_conv.mean(dim=(1)) # semua feature map di avg (batch_size, 128, 128)\n",
        "        features_processed.append(images_conv)\n",
        "    \n",
        "    t1 = time.time()\n",
        "\n",
        "    return np.vstack(features_processed)"
      ],
      "execution_count": 16,
      "outputs": []
    },
    {
      "cell_type": "code",
      "metadata": {
        "id": "rNEOyCbsr0CG",
        "colab": {
          "base_uri": "https://localhost:8080/"
        },
        "outputId": "49a9a30b-6e5c-4d9d-cfc0-f28eff30cbe7"
      },
      "source": [
        "accuracies = []\n",
        "for weight_index in range(32, 48): # (0, 16), (16, 32), (32, 48), (48, 64)\n",
        "  t0 = time.time()\n",
        "  features_processed = image_processing(features, number_of_training_data, weight_index)\n",
        "  features_test_processed = image_processing(features_test, number_of_testing_data, weight_index)\n",
        "\n",
        "  data = feature_extraction(features_processed)\n",
        "  target = labels\n",
        "\n",
        "  data_test = feature_extraction(features_test_processed)\n",
        "  target_test = labels_test\n",
        "\n",
        "  clf = svm.SVC(gamma=0.001, C=100.)\n",
        "  clf.fit(data, target)\n",
        "\n",
        "  y_pred = clf.predict(data_test)\n",
        "  y_test = target_test\n",
        "\n",
        "  t1 = time.time()\n",
        "  print(\"Finished on index-{}: {:.0f}s\".format(weight_index, t1-t0))\n",
        "\n",
        "  accuracies.append(accuracy_score(y_test,y_pred))"
      ],
      "execution_count": 17,
      "outputs": [
        {
          "output_type": "stream",
          "name": "stdout",
          "text": [
            "Finished on index-32: 306s\n",
            "Finished on index-33: 300s\n",
            "Finished on index-34: 281s\n",
            "Finished on index-35: 296s\n",
            "Finished on index-36: 307s\n",
            "Finished on index-37: 306s\n",
            "Finished on index-38: 303s\n",
            "Finished on index-39: 302s\n",
            "Finished on index-40: 311s\n",
            "Finished on index-41: 287s\n",
            "Finished on index-42: 306s\n",
            "Finished on index-43: 296s\n",
            "Finished on index-44: 302s\n",
            "Finished on index-45: 282s\n",
            "Finished on index-46: 294s\n",
            "Finished on index-47: 302s\n"
          ]
        }
      ]
    },
    {
      "cell_type": "code",
      "metadata": {
        "colab": {
          "base_uri": "https://localhost:8080/",
          "height": 292
        },
        "id": "SV-aKO_XaSAA",
        "outputId": "91b9ca89-d0ed-45f1-e494-860154b041c1"
      },
      "source": [
        "from matplotlib.pyplot import figure\n",
        "\n",
        "figure(figsize=(20, 6), dpi=80)\n",
        "\n",
        "x = range(32, 48)\n",
        "y = accuracies\n",
        "\n",
        "plt.bar(x, y, color='salmon')\n",
        "plt.show()"
      ],
      "execution_count": 19,
      "outputs": [
        {
          "output_type": "display_data",
          "data": {
            "image/png": "[encoded data removed]",
            "text/plain": [
              "<Figure size 1600x480 with 1 Axes>"
            ]
          },
          "metadata": {
            "needs_background": "light"
          }
        }
      ]
    },
    {
      "cell_type": "code",
      "metadata": {
        "colab": {
          "base_uri": "https://localhost:8080/",
          "height": 542
        },
        "id": "yqEoVEXWHRsg",
        "outputId": "5ef6f1e8-780f-45a6-8544-a140ba160c84"
      },
      "source": [
        "plt.bar(x, y, color='salmon')\n",
        "plt.show()\n",
        "for (i, j) in zip(x, y):\n",
        "  print(i, j)"
      ],
      "execution_count": 20,
      "outputs": [
        {
          "output_type": "display_data",
          "data": {
            "image/png": "[encoded data removed]",
            "text/plain": [
              "<Figure size 432x288 with 1 Axes>"
            ]
          },
          "metadata": {
            "needs_background": "light"
          }
        },
        {
          "output_type": "stream",
          "name": "stdout",
          "text": [
            "32 0.2034\n",
            "33 0.1474\n",
            "34 0.2004\n",
            "35 0.1791\n",
            "36 0.1508\n",
            "37 0.1771\n",
            "38 0.1673\n",
            "39 0.1563\n",
            "40 0.1415\n",
            "41 0.1842\n",
            "42 0.1378\n",
            "43 0.2017\n",
            "44 0.1997\n",
            "45 0.2114\n",
            "46 0.1507\n",
            "47 0.1582\n"
          ]
        }
      ]
    }
  ]
}